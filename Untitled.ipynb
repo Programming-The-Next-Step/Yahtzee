{
 "cells": [
  {
   "cell_type": "markdown",
   "metadata": {},
   "source": [
    "# Vignette: An overview of the dr_yahtzee package\n",
    "\n",
    "In this vignette, we will discuss the funcitonality of the Python package *dr_yahtzee*.\n",
    "\n",
    "With downloading this package you can either play the game Yahtzee in the terminal or in a GUI. When you download the package both versions of the game can be called.\n",
    "\n",
    "But first: Let's show how to download this package!\n",
    "Start by clicking on this GitHub URL: https://github.com/Programming-The-Next-Step/Yahtzee\n"
   ]
  },
  {
   "cell_type": "markdown",
   "metadata": {},
   "source": [
    "Click on the clone or download button\n",
    "\n"
   ]
  },
  {
   "cell_type": "code",
   "execution_count": null,
   "metadata": {},
   "outputs": [],
   "source": []
  }
 ],
 "metadata": {
  "kernelspec": {
   "display_name": "Python 3",
   "language": "python",
   "name": "python3"
  },
  "language_info": {
   "codemirror_mode": {
    "name": "ipython",
    "version": 3
   },
   "file_extension": ".py",
   "mimetype": "text/x-python",
   "name": "python",
   "nbconvert_exporter": "python",
   "pygments_lexer": "ipython3",
   "version": "3.7.4"
  }
 },
 "nbformat": 4,
 "nbformat_minor": 2
}
