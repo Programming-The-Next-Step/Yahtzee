{
 "cells": [
  {
   "cell_type": "markdown",
   "metadata": {},
   "source": [
    "# Vignette: An overview of the dr_yahtzee package\n",
    "\n",
    "In this vignette, we will discuss the funcitonality of the Python package *dr_yahtzee*.\n",
    "With downloading this package you can either play the game Yahtzee in the terminal or in a GUI. When you download the package both versions of the game can be called.\n",
    "\n",
    "\n",
    "\n",
    "But first: Let's show how to download this package!\n",
    "Start by clicking on this GitHub URL: https://github.com/Programming-The-Next-Step/Yahtzee\n"
   ]
  },
  {
   "cell_type": "markdown",
   "metadata": {},
   "source": [
    "Click on the clone or download button:\n",
    "\n",
    "\n",
    "![alt text](clone.png \"Click on the clone or download button!\")"
   ]
  },
  {
   "cell_type": "markdown",
   "metadata": {},
   "source": [
    "Save the files in a directory you can access easily. Set the working directory of python to the same directory.\n",
    "Now we can install the package locally, with:"
   ]
  },
  {
   "cell_type": "code",
   "execution_count": null,
   "metadata": {},
   "outputs": [],
   "source": [
    "pip install ."
   ]
  },
  {
   "cell_type": "markdown",
   "metadata": {},
   "source": [
    "After the package installed successfully, you can start with importing the package, with:"
   ]
  },
  {
   "cell_type": "code",
   "execution_count": null,
   "metadata": {},
   "outputs": [],
   "source": [
    "import dr_yahtzee"
   ]
  },
  {
   "cell_type": "markdown",
   "metadata": {},
   "source": [
    "# Terminal vs GUI\n",
    "This package has two possibilities, you can play the game in the terminal or in the GUI.\n",
    "If you want to play with more than 4 players, play the game in the terminal. In the GUI it is only possible to play with up to four players. Of course, the GUI version looks a bit more fancy.\n",
    "\n",
    "Ready to game?! "
   ]
  },
  {
   "cell_type": "markdown",
   "metadata": {},
   "source": [
    "## Playing Yahtzee in the terminal\n",
    "\n",
    "To play the game in the terminal, start with the following code:"
   ]
  },
  {
   "cell_type": "code",
   "execution_count": null,
   "metadata": {},
   "outputs": [],
   "source": [
    "dr_yahtzee.terminal_game()"
   ]
  },
  {
   "cell_type": "markdown",
   "metadata": {},
   "source": [
    "The game will start with the instructions and asks with how many players you want to play the game. In principle it could run with a lot of people. For the simple reason that it will take a long time before it is your turn (boring), I would recommend to not play with more than 8 players.\n",
    "After you gathered you filled in with how many players you want to play, you can fill in the names of the players. This should be done with a space between the names. \n",
    "\n",
    "For example:\n",
    "Enter the names of the players separated by a space: Piet Jan Dana\n",
    "\n",
    "The game will start and you will see the dice rolled by the first player.\n",
    "\n",
    "\n",
    "![alt text](first_roll.png \"Example of the first roll\")\n",
    "\n",
    "![alt text](second_roll.png \"Example of the second roll\")\n",
    "\n",
    "Each player can run the dice up to three times. After three times of rolling the dice, or deciding within a roll to keep the dice, the player has to indicate which category he/she wants to fill in. \n",
    "\n",
    "For example:\n",
    "\n",
    "![alt text](third_roll_choosing_category.png \"Example of the third roll and choosing the category\")\n",
    "\n",
    "The scorecard will be filled with the category of choice and this category cannot be filled in, in a next turn.\n",
    "This will repeat until the all the players have filled in all the categories (each 13 turns).\n",
    "\n",
    "At the end the scorecards for each player is showed:\n",
    "\n",
    "![alt text](show_score.png \"Dana sucks at yahtzee\")\n",
    "\n",
    "As you can see, Jan won this round of yahtzee (and Dana kind of sucks in this game).\n"
   ]
  },
  {
   "cell_type": "markdown",
   "metadata": {},
   "source": [
    "## Playing the game in the GUI\n",
    "\n",
    "To play the game in the way fancier GUI, start with the following code:"
   ]
  },
  {
   "cell_type": "code",
   "execution_count": null,
   "metadata": {},
   "outputs": [],
   "source": [
    "dr_yahtzee.gui_game()"
   ]
  },
  {
   "cell_type": "markdown",
   "metadata": {},
   "source": [
    "Two screen will pop up, one for entering the players and the actual game:\n",
    "\n",
    "![alt text](start_gui.png \"Start screen of the GUI game\")\n",
    "\n",
    "\n",
    "After entering the names of each player. You can click on *Play!* and the buttons on the game window will start. You can see who's turn it is in the cyan bar and if you need a reminder on the instructions for Yahtzee click on the ? in the lower right corner.\n",
    "\n",
    "\n",
    "![alt text](gui_buttons.png \"Instruction of buttons\")\n",
    "\n",
    "\n",
    "\n",
    "1. Represents the table with the dice on it. You can select the dice with a click on the dice. You can also deselect the dice by clicking on them again. The red background of each dice represents whether the dice is selected or not.\n",
    "\n",
    "2. The player whos turn it is\n",
    "\n",
    "3. When you have selected the dice you want to roll again, press the *Roll again button*. \n",
    "\n",
    "4. When you want to keep all the dice, you can click on the button that states *Keep all the dice*.\n",
    "\n",
    "5. When you press the *?* button, a new window will open with the instructions.\n",
    "\n",
    "\n",
    "After strategically rolling some dice again and roll some others you can choose a category on the scorecard. Choose wisely! When you made your choice, your choice will turn green and the scorecard will be filled in for you. Click on *Next turn!* to go to the next player or if you play alone to the next turn for yourself. \n",
    "\n",
    "\n",
    "![alt text](gui_buttons_choose.png \"Instruction of buttons\")\n",
    "\n",
    "\n",
    "When every player has filled out the scorecards and the game comes to an end, the button *Show final results* appears in the lower right corner. This will open a new window with the ranking of the players and their total scores.\n",
    "\n",
    "\n",
    "![alt text](winner.png \"Ranking the players\")\n",
    "\n",
    "\n",
    "\n",
    "\n",
    "\n",
    "**Happy Yahtzee-ing!**\n"
   ]
  }
 ],
 "metadata": {
  "kernelspec": {
   "display_name": "Python 3",
   "language": "python",
   "name": "python3"
  },
  "language_info": {
   "codemirror_mode": {
    "name": "ipython",
    "version": 3
   },
   "file_extension": ".py",
   "mimetype": "text/x-python",
   "name": "python",
   "nbconvert_exporter": "python",
   "pygments_lexer": "ipython3",
   "version": "3.7.4"
  }
 },
 "nbformat": 4,
 "nbformat_minor": 2
}
