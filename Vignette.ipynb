{
 "cells": [
  {
   "cell_type": "markdown",
   "metadata": {},
   "source": [
    "# Vignette: An overview of the dr_yahtzee package\n",
    "\n",
    "In this vignette, we will discuss the funcitonality of the Python package *dr_yahtzee*.\n",
    "With downloading this package you can either play the game Yahtzee in the terminal or in a GUI. When you download the package both versions of the game can be called.\n",
    "\n",
    "\n",
    "\n",
    "But first: Let's show how to download this package!\n",
    "Start by clicking on this GitHub URL: https://github.com/Programming-The-Next-Step/Yahtzee\n"
   ]
  },
  {
   "cell_type": "markdown",
   "metadata": {},
   "source": [
    "Click on the clone or download button:\n",
    "\n",
    "\n",
    "![alt text](clone.png \"Click on the clone or download button!\")"
   ]
  },
  {
   "cell_type": "markdown",
   "metadata": {},
   "source": [
    "Save the files in a directory you can access easily. Set the working directory of python to the same directory.\n",
    "Now we can install the package locally, with:"
   ]
  },
  {
   "cell_type": "code",
   "execution_count": 1,
   "metadata": {},
   "outputs": [
    {
     "name": "stdout",
     "output_type": "stream",
     "text": [
      "Processing c:\\users\\danar\\github\\yahtzee\n",
      "Building wheels for collected packages: dr-yahtzee\n",
      "  Building wheel for dr-yahtzee (setup.py): started\n",
      "  Building wheel for dr-yahtzee (setup.py): finished with status 'done'\n",
      "  Created wheel for dr-yahtzee: filename=dr_yahtzee-0.0.1-cp37-none-any.whl size=9793 sha256=cf589bb4d6ac1a97e5b1fbbee610fe5ab461540ee961e658ab6cbcd0877135ca\n",
      "  Stored in directory: C:\\Users\\danar\\AppData\\Local\\Temp\\pip-ephem-wheel-cache-il3mnyz3\\wheels\\07\\33\\25\\5b9cd915cabed79ff40ae95b66d90c373602e098e1b1aa31a3\n",
      "Successfully built dr-yahtzee\n",
      "Installing collected packages: dr-yahtzee\n",
      "  Found existing installation: dr-yahtzee 0.0.1\n",
      "    Uninstalling dr-yahtzee-0.0.1:\n",
      "      Successfully uninstalled dr-yahtzee-0.0.1\n",
      "Successfully installed dr-yahtzee-0.0.1\n",
      "Note: you may need to restart the kernel to use updated packages.\n"
     ]
    }
   ],
   "source": [
    "pip install ."
   ]
  },
  {
   "cell_type": "markdown",
   "metadata": {},
   "source": [
    "After the package installed successfully, you can start with importing the package, with:"
   ]
  },
  {
   "cell_type": "code",
   "execution_count": 2,
   "metadata": {},
   "outputs": [],
   "source": [
    "import dr_yahtzee"
   ]
  },
  {
   "cell_type": "markdown",
   "metadata": {},
   "source": [
    "# Terminal vs GUI\n",
    "This package has two possibilities, you can play the game in the terminal or in the GUI.\n",
    "If you want to play with more than 4 players, play the game in the terminal. In the GUI it is only possible to play with up to four players. Of course, the GUI version looks a bit more fancy.\n",
    "\n",
    "Ready to game?! "
   ]
  },
  {
   "cell_type": "markdown",
   "metadata": {},
   "source": [
    "## Playing Yahtzee in the terminal\n",
    "\n",
    "To play the game in the terminal, start with the following code:"
   ]
  },
  {
   "cell_type": "code",
   "execution_count": 3,
   "metadata": {},
   "outputs": [
    {
     "name": "stdout",
     "output_type": "stream",
     "text": [
      "Welcome player. Ready for a game of Yahtzee?\n",
      "\n",
      "In this game the objective is to roll 5 dice to get the highest score after 13 rounds.\n",
      "Each turn consists of a maximum of three rolls. In the first roll, the player rolls all the 5 dice.\n",
      "If the player chooses to roll a second and, if desired, a third time, he may pick up any or all the dice and roll again.\n",
      "Based on the outcome of the dice a score can be assigned to either a category, or when not possible enter a zero in the category of choice. \n",
      "In one turn:\n",
      "Your first roll: you roll all the 5 dice. If you get a combination that can be assigned to a category you want you can mark the scorecard right away. Otherwise, you continue with the second roll.\n",
      "Your second roll: Set aside the dice you would like to keep and roll the dice you want to change. It is possible to roll all the dice again. \n",
      "Assign the outcome to a category and mark the scorecard or choose to roll one last time.\n",
      "Third and final roll:\n",
      "If you still haven't a category, or just want to maximize your score: Roll some or all of your dice.\n",
      "You must enter a score at the end of this roll, whether or not you like your dice.\n",
      "If your roll doesn't suit any of your empty boxes, you have to enter a zero somewhere. BUT scoring even a single die value is better than a zero.\n",
      "\n",
      "Categories:\n",
      "There are 13 scoring boxes on your scorecard. On each completed turn, you must score in one of the 13 boxes. The boxes may be filled in any order, according to your best judgment. The scorecard has an upper and lower section.\n",
      "\n",
      "Upper section\n",
      "Contains six boxes labelled 1 to 6 (aces, twos, threes, fours, fives, and sixes).\n",
      "When you choose to score in one of the upper section categories, you count and add the dice with the same number and enter the total of these dice in the appropriate box.\n",
      "So, for example, when you rolled three twos and one four and one five, you could either fill in 5 in the fives category a 4 in the fours category or a 6 (2 x 3). You can only fill in a category once. So, you could also fill in the aces with zero.\n",
      "If the upper section sums up to 63 or more points, you will get a bonus of 35 points to the total score.\n",
      "\n",
      "Lower section\n",
      "** Three of a kind: this category may only be filled if the dice show at least three of the same numbers (5, 5, 5, 1, 3). The score for this category is the total of the dice\n",
      "** Four of a kind: score of the total of all dice, only when you have 4 dices with the same number\n",
      "** Full house: you need to have 3 dice with the same number and 2 dice with the same number (for example: 2, 2, 3, 3, 3 or 1, 1, 4, 4, 4). A full house is worth 25 points\n",
      "** Small Straight: any sequence of four numbers. Note it can also be five consecutive numbers. A small straight will give you 30 points.\n",
      "** Large Straight: a sequence of five numbers, for example: 1,2,3,4,5 or 2,3,4,5,6. This is valued 40 points\n",
      "** Chance: This offers a player the opportunity to score on any turn where he does not choose to score in any of the other open boxes. Mark score by totalling number of points on all dice.\n",
      "** Yahtzee: five of a kind. Yahtzee is the highest possible score (50 points).\n",
      "The player with the highest score wins!\n",
      "\n",
      "\n",
      "With how many players do you want to play Yahtzee? Enter a number in digits: 1\n",
      "Enter the names of the players separated by a space: dana\n",
      "dana rolled:  [4, 2, 2, 3, 1]\n",
      "Press y if you want to keep all the dice;\n",
      "Press q if you want to quit the game;\n",
      "Press any other key if you want to roll the dice again: q\n"
     ]
    }
   ],
   "source": [
    "dr_yahtzee.terminal_game()"
   ]
  },
  {
   "cell_type": "markdown",
   "metadata": {},
   "source": [
    "The game will start with the instructions and asks with how many players you want to play the game. In principle it could run with a lot of people. For the simple reason that it will take a long time before it is your turn (boring), I would recommend to not play with more than 8 players.\n",
    "After you gathered you filled in with how many players you want to play, you can fill in the names of the players. This should be done with a space between the names. \n",
    "\n",
    "For example:\n",
    "Enter the names of the players separated by a space: Piet Jan Dana\n",
    "\n",
    "The game will start and you will see the dice rolled by the first player.\n",
    "\n",
    "\n",
    "![alt text](first_roll.png \"Example of the first roll\")\n",
    "\n",
    "![alt text](second_roll.png \"Example of the second roll\")\n",
    "\n",
    "Each player can run the dice up to three times. After three times of rolling the dice, or deciding within a roll to keep the dice, the player has to indicate which category he/she wants to fill in. \n",
    "\n",
    "For example:\n",
    "\n",
    "![alt text](third_roll_choosing_category.png \"Example of the third roll and choosing the category\")\n",
    "\n",
    "The scorecard will be filled with the category of choice and this category cannot be filled in, in a next turn.\n",
    "This will repeat until the all the players have filled in all the categories (each 13 turns).\n",
    "\n",
    "At the end the scorecards for each player is showed:\n",
    "\n",
    "![alt text](show_score.png \"Dana sucks at yahtzee\")\n",
    "\n",
    "As you can see, Jan won this round of yahtzee (and Dana kind of sucks).\n"
   ]
  },
  {
   "cell_type": "markdown",
   "metadata": {},
   "source": [
    "## Playing the game in the GUI\n",
    "\n",
    "To play the game in the way fancier GUI, start with the following code:"
   ]
  },
  {
   "cell_type": "code",
   "execution_count": null,
   "metadata": {},
   "outputs": [],
   "source": [
    "dr_yahtzee.gui_game()"
   ]
  },
  {
   "cell_type": "markdown",
   "metadata": {},
   "source": [
    "Two screen will pop up, one for entering the players and the actual game:\n",
    "\n",
    "![alt text](start_gui.png \"Start screen of the GUI game\")\n",
    "\n",
    "After entering the names of each player. You can click on Play! and the buttons on the game window will start. You can see who's turn it is in the cyan bar and if you need a reminder on the instructions for Yahtzee click on the ? in the lower right corner.\n",
    "\n",
    "\n"
   ]
  }
 ],
 "metadata": {
  "kernelspec": {
   "display_name": "Python 3",
   "language": "python",
   "name": "python3"
  },
  "language_info": {
   "codemirror_mode": {
    "name": "ipython",
    "version": 3
   },
   "file_extension": ".py",
   "mimetype": "text/x-python",
   "name": "python",
   "nbconvert_exporter": "python",
   "pygments_lexer": "ipython3",
   "version": "3.7.4"
  }
 },
 "nbformat": 4,
 "nbformat_minor": 2
}
